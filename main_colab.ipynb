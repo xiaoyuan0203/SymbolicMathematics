{
 "cells": [
  {
   "cell_type": "code",
   "execution_count": null,
   "metadata": {
    "_cell_guid": "b1076dfc-b9ad-4769-8c92-a6c4dae69d19",
    "_uuid": "8f2839f25d086af736a60e9eeb907d3b93b6e0e5"
   },
   "outputs": [],
   "source": [
    "!git clone https://github.com/NVIDIA/apex\n",
    "%pip install -q --disable-pip-version-check --no-cache-dir ./apex\n",
    "%rm -r apex"
   ]
  },
  {
   "cell_type": "code",
   "execution_count": null,
   "metadata": {},
   "outputs": [],
   "source": [
    "!git clone -q https://github.com/xiaoyuan0203/SymbolicMathematics\n",
    "%cd SymbolicMathematics"
   ]
  },
  {
   "cell_type": "code",
   "execution_count": null,
   "metadata": {},
   "outputs": [],
   "source": [
    "!wget https://dl.fbaipublicfiles.com/SymbolicMathematics/models/ode2.pth"
   ]
  },
  {
   "attachments": {},
   "cell_type": "markdown",
   "metadata": {},
   "source": [
    "Valid"
   ]
  },
  {
   "cell_type": "code",
   "execution_count": null,
   "metadata": {},
   "outputs": [],
   "source": [
    "!DIR=./dumped/ode2_data/1digits ; python main.py \\\n",
    "--exp_name first_eval \\\n",
    "--eval_only true \\\n",
    "--reload_model \"ode2.pth\" \\\n",
    "--tasks \"ode2\" \\\n",
    "--reload_data \"ode2,${DIR}/data.prefix.counts.train,${DIR}/data.prefix.counts.valid,${DIR}/data.prefix.counts.test\" \\\n",
    "--emb_dim 1024 \\\n",
    "--n_enc_layers 6 \\\n",
    "--n_dec_layers 6 \\\n",
    "--n_heads 8 \\\n",
    "--beam_eval true \\\n",
    "--beam_size 10 \\\n",
    "--beam_length_penalty 1.0 \\\n",
    "--beam_early_stopping 1 \\\n",
    "--eval_verbose 1 \\\n",
    "--eval_verbose_print false"
   ]
  },
  {
   "attachments": {},
   "cell_type": "markdown",
   "metadata": {},
   "source": [
    "Train"
   ]
  },
  {
   "cell_type": "code",
   "execution_count": null,
   "metadata": {},
   "outputs": [],
   "source": [
    "!DIR=./dumped/ode2_data/1digits ; python main.py \\\n",
    "--exp_name first_train \\\n",
    "--fp16 true \\\n",
    "--amp 2 \\\n",
    "--tasks \"ode2\" \\\n",
    "--reload_data \"ode2,${DIR}/data.prefix.counts.train,${DIR}/data.prefix.counts.valid,${DIR}/data.prefix.counts.test\" \\\n",
    "--reload_size 40000000 \\\n",
    "--emb_dim 1024 \\\n",
    "--n_enc_layers 6 \\\n",
    "--n_dec_layers 6 \\\n",
    "--n_heads 8 \\\n",
    "--optimizer \"adam,lr=0.0001\" \\\n",
    "--batch_size 32 \\\n",
    "--validation_metrics valid_ode2_acc\n"
   ]
  },
  {
   "cell_type": "code",
   "execution_count": null,
   "metadata": {},
   "outputs": [],
   "source": []
  }
 ],
 "metadata": {
  "kernelspec": {
   "display_name": "Python 3 (ipykernel)",
   "language": "python",
   "name": "python3"
  },
  "language_info": {
   "codemirror_mode": {
    "name": "ipython",
    "version": 3
   },
   "file_extension": ".py",
   "mimetype": "text/x-python",
   "name": "python",
   "nbconvert_exporter": "python",
   "pygments_lexer": "ipython3",
   "version": "3.8.10"
  }
 },
 "nbformat": 4,
 "nbformat_minor": 4
}
